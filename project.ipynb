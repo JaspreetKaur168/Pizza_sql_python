{
 "cells": [
  {
   "cell_type": "code",
   "execution_count": 76,
   "id": "7f8b4036",
   "metadata": {},
   "outputs": [
    {
     "name": "stdout",
     "output_type": "stream",
     "text": [
      "Hello world\n"
     ]
    }
   ],
   "source": [
    "print(\"Hello world\")"
   ]
  },
  {
   "cell_type": "code",
   "execution_count": 77,
   "id": "3deb7390",
   "metadata": {},
   "outputs": [],
   "source": [
    "import pandas as pd"
   ]
  },
  {
   "cell_type": "code",
   "execution_count": 78,
   "id": "60872293",
   "metadata": {},
   "outputs": [
    {
     "name": "stdout",
     "output_type": "stream",
     "text": [
      "2.2.3\n"
     ]
    }
   ],
   "source": [
    "print(pd.__version__)"
   ]
  },
  {
   "cell_type": "code",
   "execution_count": 80,
   "id": "6b88e42f",
   "metadata": {},
   "outputs": [],
   "source": [
    "df= pd.read_csv(\"Pizza_dataset.csv\", encoding_errors= \"ignore\")"
   ]
  },
  {
   "cell_type": "code",
   "execution_count": 81,
   "id": "8c18ad7e",
   "metadata": {},
   "outputs": [
    {
     "data": {
      "text/html": [
       "<div>\n",
       "<style scoped>\n",
       "    .dataframe tbody tr th:only-of-type {\n",
       "        vertical-align: middle;\n",
       "    }\n",
       "\n",
       "    .dataframe tbody tr th {\n",
       "        vertical-align: top;\n",
       "    }\n",
       "\n",
       "    .dataframe thead th {\n",
       "        text-align: right;\n",
       "    }\n",
       "</style>\n",
       "<table border=\"1\" class=\"dataframe\">\n",
       "  <thead>\n",
       "    <tr style=\"text-align: right;\">\n",
       "      <th></th>\n",
       "      <th>Order_ID</th>\n",
       "      <th>Restaurant_Name</th>\n",
       "      <th>Location</th>\n",
       "      <th>Order_Time</th>\n",
       "      <th>Delivery_Time</th>\n",
       "      <th>Delivery_Duration_min</th>\n",
       "      <th>Pizza_Size</th>\n",
       "      <th>Pizza_Type</th>\n",
       "      <th>Toppings_Count</th>\n",
       "      <th>Distance_km</th>\n",
       "      <th>...</th>\n",
       "      <th>Topping_Density</th>\n",
       "      <th>Order_Month</th>\n",
       "      <th>Payment_Category</th>\n",
       "      <th>Estimated_Duration_min</th>\n",
       "      <th>Delay_min</th>\n",
       "      <th>Is_Delayed</th>\n",
       "      <th>Pizza_Complexity</th>\n",
       "      <th>Traffic_Impact</th>\n",
       "      <th>Order_Hour</th>\n",
       "      <th>Restaurant_Avg_Time</th>\n",
       "    </tr>\n",
       "  </thead>\n",
       "  <tbody>\n",
       "    <tr>\n",
       "      <th>0</th>\n",
       "      <td>ORD001</td>\n",
       "      <td>Domino's</td>\n",
       "      <td>New York, NY</td>\n",
       "      <td>05-01-2024 18:30</td>\n",
       "      <td>05-01-2024 18:45</td>\n",
       "      <td>15</td>\n",
       "      <td>Medium</td>\n",
       "      <td>Veg</td>\n",
       "      <td>3</td>\n",
       "      <td>2.5</td>\n",
       "      <td>...</td>\n",
       "      <td>1.200000</td>\n",
       "      <td>January</td>\n",
       "      <td>Online</td>\n",
       "      <td>6.0</td>\n",
       "      <td>9.0</td>\n",
       "      <td>False</td>\n",
       "      <td>6</td>\n",
       "      <td>2</td>\n",
       "      <td>18</td>\n",
       "      <td>30.259434</td>\n",
       "    </tr>\n",
       "    <tr>\n",
       "      <th>1</th>\n",
       "      <td>ORD002</td>\n",
       "      <td>Papa John's</td>\n",
       "      <td>Los Angeles, CA</td>\n",
       "      <td>14-02-2024 20:00</td>\n",
       "      <td>14-02-2024 20:25</td>\n",
       "      <td>25</td>\n",
       "      <td>Large</td>\n",
       "      <td>Non-Veg</td>\n",
       "      <td>4</td>\n",
       "      <td>5.0</td>\n",
       "      <td>...</td>\n",
       "      <td>0.800000</td>\n",
       "      <td>February</td>\n",
       "      <td>Online</td>\n",
       "      <td>12.0</td>\n",
       "      <td>13.0</td>\n",
       "      <td>False</td>\n",
       "      <td>12</td>\n",
       "      <td>3</td>\n",
       "      <td>20</td>\n",
       "      <td>28.186275</td>\n",
       "    </tr>\n",
       "    <tr>\n",
       "      <th>2</th>\n",
       "      <td>ORD003</td>\n",
       "      <td>Little Caesars</td>\n",
       "      <td>Chicago, IL</td>\n",
       "      <td>21-03-2024 12:15</td>\n",
       "      <td>21-03-2024 12:35</td>\n",
       "      <td>20</td>\n",
       "      <td>Small</td>\n",
       "      <td>Vegan</td>\n",
       "      <td>2</td>\n",
       "      <td>3.0</td>\n",
       "      <td>...</td>\n",
       "      <td>0.666667</td>\n",
       "      <td>March</td>\n",
       "      <td>Online</td>\n",
       "      <td>7.2</td>\n",
       "      <td>12.8</td>\n",
       "      <td>False</td>\n",
       "      <td>2</td>\n",
       "      <td>1</td>\n",
       "      <td>12</td>\n",
       "      <td>28.844221</td>\n",
       "    </tr>\n",
       "    <tr>\n",
       "      <th>3</th>\n",
       "      <td>ORD004</td>\n",
       "      <td>Pizza Hut</td>\n",
       "      <td>Miami, FL</td>\n",
       "      <td>10-04-2024 19:45</td>\n",
       "      <td>10-04-2024 20:10</td>\n",
       "      <td>25</td>\n",
       "      <td>XL</td>\n",
       "      <td>Cheese Burst</td>\n",
       "      <td>5</td>\n",
       "      <td>4.5</td>\n",
       "      <td>...</td>\n",
       "      <td>1.111111</td>\n",
       "      <td>April</td>\n",
       "      <td>Offline</td>\n",
       "      <td>10.8</td>\n",
       "      <td>14.2</td>\n",
       "      <td>False</td>\n",
       "      <td>20</td>\n",
       "      <td>2</td>\n",
       "      <td>19</td>\n",
       "      <td>29.948454</td>\n",
       "    </tr>\n",
       "    <tr>\n",
       "      <th>4</th>\n",
       "      <td>ORD005</td>\n",
       "      <td>Marco's Pizza</td>\n",
       "      <td>Dallas, TX</td>\n",
       "      <td>05-05-2024 13:00</td>\n",
       "      <td>05-05-2024 13:20</td>\n",
       "      <td>20</td>\n",
       "      <td>Medium</td>\n",
       "      <td>Non-Veg</td>\n",
       "      <td>3</td>\n",
       "      <td>2.0</td>\n",
       "      <td>...</td>\n",
       "      <td>1.500000</td>\n",
       "      <td>May</td>\n",
       "      <td>Online</td>\n",
       "      <td>4.8</td>\n",
       "      <td>15.2</td>\n",
       "      <td>False</td>\n",
       "      <td>6</td>\n",
       "      <td>3</td>\n",
       "      <td>13</td>\n",
       "      <td>30.286458</td>\n",
       "    </tr>\n",
       "  </tbody>\n",
       "</table>\n",
       "<p>5 rows × 25 columns</p>\n",
       "</div>"
      ],
      "text/plain": [
       "  Order_ID Restaurant_Name         Location        Order_Time  \\\n",
       "0   ORD001        Domino's     New York, NY  05-01-2024 18:30   \n",
       "1   ORD002     Papa John's  Los Angeles, CA  14-02-2024 20:00   \n",
       "2   ORD003  Little Caesars      Chicago, IL  21-03-2024 12:15   \n",
       "3   ORD004       Pizza Hut        Miami, FL  10-04-2024 19:45   \n",
       "4   ORD005   Marco's Pizza       Dallas, TX  05-05-2024 13:00   \n",
       "\n",
       "      Delivery_Time  Delivery_Duration_min Pizza_Size    Pizza_Type  \\\n",
       "0  05-01-2024 18:45                     15     Medium           Veg   \n",
       "1  14-02-2024 20:25                     25      Large       Non-Veg   \n",
       "2  21-03-2024 12:35                     20      Small         Vegan   \n",
       "3  10-04-2024 20:10                     25         XL  Cheese Burst   \n",
       "4  05-05-2024 13:20                     20     Medium       Non-Veg   \n",
       "\n",
       "   Toppings_Count  Distance_km  ... Topping_Density Order_Month  \\\n",
       "0               3          2.5  ...        1.200000     January   \n",
       "1               4          5.0  ...        0.800000    February   \n",
       "2               2          3.0  ...        0.666667       March   \n",
       "3               5          4.5  ...        1.111111       April   \n",
       "4               3          2.0  ...        1.500000         May   \n",
       "\n",
       "   Payment_Category  Estimated_Duration_min  Delay_min  Is_Delayed  \\\n",
       "0            Online                     6.0        9.0       False   \n",
       "1            Online                    12.0       13.0       False   \n",
       "2            Online                     7.2       12.8       False   \n",
       "3           Offline                    10.8       14.2       False   \n",
       "4            Online                     4.8       15.2       False   \n",
       "\n",
       "  Pizza_Complexity Traffic_Impact  Order_Hour  Restaurant_Avg_Time  \n",
       "0                6              2          18            30.259434  \n",
       "1               12              3          20            28.186275  \n",
       "2                2              1          12            28.844221  \n",
       "3               20              2          19            29.948454  \n",
       "4                6              3          13            30.286458  \n",
       "\n",
       "[5 rows x 25 columns]"
      ]
     },
     "execution_count": 81,
     "metadata": {},
     "output_type": "execute_result"
    }
   ],
   "source": [
    "df.head()"
   ]
  },
  {
   "cell_type": "code",
   "execution_count": 82,
   "id": "f0232587",
   "metadata": {},
   "outputs": [
    {
     "data": {
      "text/html": [
       "<div>\n",
       "<style scoped>\n",
       "    .dataframe tbody tr th:only-of-type {\n",
       "        vertical-align: middle;\n",
       "    }\n",
       "\n",
       "    .dataframe tbody tr th {\n",
       "        vertical-align: top;\n",
       "    }\n",
       "\n",
       "    .dataframe thead th {\n",
       "        text-align: right;\n",
       "    }\n",
       "</style>\n",
       "<table border=\"1\" class=\"dataframe\">\n",
       "  <thead>\n",
       "    <tr style=\"text-align: right;\">\n",
       "      <th></th>\n",
       "      <th>Delivery_Duration_min</th>\n",
       "      <th>Toppings_Count</th>\n",
       "      <th>Distance_km</th>\n",
       "      <th>Delivery_Eficiency_min/km</th>\n",
       "      <th>Topping_Density</th>\n",
       "      <th>Estimated_Duration_min</th>\n",
       "      <th>Delay_min</th>\n",
       "      <th>Pizza_Complexity</th>\n",
       "      <th>Traffic_Impact</th>\n",
       "      <th>Order_Hour</th>\n",
       "      <th>Restaurant_Avg_Time</th>\n",
       "    </tr>\n",
       "  </thead>\n",
       "  <tbody>\n",
       "    <tr>\n",
       "      <th>count</th>\n",
       "      <td>1004.000000</td>\n",
       "      <td>1004.000000</td>\n",
       "      <td>1004.000000</td>\n",
       "      <td>1004.000000</td>\n",
       "      <td>1004.000000</td>\n",
       "      <td>1004.000000</td>\n",
       "      <td>1004.000000</td>\n",
       "      <td>1004.000000</td>\n",
       "      <td>1004.000000</td>\n",
       "      <td>1004.000000</td>\n",
       "      <td>1004.000000</td>\n",
       "    </tr>\n",
       "    <tr>\n",
       "      <th>mean</th>\n",
       "      <td>29.492032</td>\n",
       "      <td>3.362550</td>\n",
       "      <td>4.945618</td>\n",
       "      <td>6.397006</td>\n",
       "      <td>0.714684</td>\n",
       "      <td>11.869482</td>\n",
       "      <td>17.622550</td>\n",
       "      <td>9.468127</td>\n",
       "      <td>2.049801</td>\n",
       "      <td>18.691235</td>\n",
       "      <td>29.492032</td>\n",
       "    </tr>\n",
       "    <tr>\n",
       "      <th>std</th>\n",
       "      <td>7.753103</td>\n",
       "      <td>1.135853</td>\n",
       "      <td>1.951463</td>\n",
       "      <td>1.562573</td>\n",
       "      <td>0.203020</td>\n",
       "      <td>4.683510</td>\n",
       "      <td>3.964289</td>\n",
       "      <td>6.233731</td>\n",
       "      <td>0.775696</td>\n",
       "      <td>1.529466</td>\n",
       "      <td>0.859941</td>\n",
       "    </tr>\n",
       "    <tr>\n",
       "      <th>min</th>\n",
       "      <td>15.000000</td>\n",
       "      <td>1.000000</td>\n",
       "      <td>2.000000</td>\n",
       "      <td>4.166667</td>\n",
       "      <td>0.266667</td>\n",
       "      <td>4.800000</td>\n",
       "      <td>9.000000</td>\n",
       "      <td>1.000000</td>\n",
       "      <td>1.000000</td>\n",
       "      <td>12.000000</td>\n",
       "      <td>26.666667</td>\n",
       "    </tr>\n",
       "    <tr>\n",
       "      <th>25%</th>\n",
       "      <td>25.000000</td>\n",
       "      <td>3.000000</td>\n",
       "      <td>3.500000</td>\n",
       "      <td>5.000000</td>\n",
       "      <td>0.600000</td>\n",
       "      <td>8.400000</td>\n",
       "      <td>15.200000</td>\n",
       "      <td>6.000000</td>\n",
       "      <td>1.000000</td>\n",
       "      <td>18.000000</td>\n",
       "      <td>28.844221</td>\n",
       "    </tr>\n",
       "    <tr>\n",
       "      <th>50%</th>\n",
       "      <td>30.000000</td>\n",
       "      <td>3.000000</td>\n",
       "      <td>4.500000</td>\n",
       "      <td>6.000000</td>\n",
       "      <td>0.666667</td>\n",
       "      <td>10.800000</td>\n",
       "      <td>17.800000</td>\n",
       "      <td>6.000000</td>\n",
       "      <td>2.000000</td>\n",
       "      <td>19.000000</td>\n",
       "      <td>29.948454</td>\n",
       "    </tr>\n",
       "    <tr>\n",
       "      <th>75%</th>\n",
       "      <td>30.000000</td>\n",
       "      <td>4.000000</td>\n",
       "      <td>6.000000</td>\n",
       "      <td>7.142857</td>\n",
       "      <td>0.833333</td>\n",
       "      <td>14.400000</td>\n",
       "      <td>20.400000</td>\n",
       "      <td>12.000000</td>\n",
       "      <td>3.000000</td>\n",
       "      <td>20.000000</td>\n",
       "      <td>30.259434</td>\n",
       "    </tr>\n",
       "    <tr>\n",
       "      <th>max</th>\n",
       "      <td>50.000000</td>\n",
       "      <td>5.000000</td>\n",
       "      <td>10.000000</td>\n",
       "      <td>12.500000</td>\n",
       "      <td>1.500000</td>\n",
       "      <td>24.000000</td>\n",
       "      <td>30.080000</td>\n",
       "      <td>20.000000</td>\n",
       "      <td>3.000000</td>\n",
       "      <td>21.000000</td>\n",
       "      <td>30.286458</td>\n",
       "    </tr>\n",
       "  </tbody>\n",
       "</table>\n",
       "</div>"
      ],
      "text/plain": [
       "       Delivery_Duration_min  Toppings_Count  Distance_km  \\\n",
       "count            1004.000000     1004.000000  1004.000000   \n",
       "mean               29.492032        3.362550     4.945618   \n",
       "std                 7.753103        1.135853     1.951463   \n",
       "min                15.000000        1.000000     2.000000   \n",
       "25%                25.000000        3.000000     3.500000   \n",
       "50%                30.000000        3.000000     4.500000   \n",
       "75%                30.000000        4.000000     6.000000   \n",
       "max                50.000000        5.000000    10.000000   \n",
       "\n",
       "       Delivery_Eficiency_min/km  Topping_Density  Estimated_Duration_min  \\\n",
       "count                1004.000000      1004.000000             1004.000000   \n",
       "mean                    6.397006         0.714684               11.869482   \n",
       "std                     1.562573         0.203020                4.683510   \n",
       "min                     4.166667         0.266667                4.800000   \n",
       "25%                     5.000000         0.600000                8.400000   \n",
       "50%                     6.000000         0.666667               10.800000   \n",
       "75%                     7.142857         0.833333               14.400000   \n",
       "max                    12.500000         1.500000               24.000000   \n",
       "\n",
       "         Delay_min  Pizza_Complexity  Traffic_Impact   Order_Hour  \\\n",
       "count  1004.000000       1004.000000     1004.000000  1004.000000   \n",
       "mean     17.622550          9.468127        2.049801    18.691235   \n",
       "std       3.964289          6.233731        0.775696     1.529466   \n",
       "min       9.000000          1.000000        1.000000    12.000000   \n",
       "25%      15.200000          6.000000        1.000000    18.000000   \n",
       "50%      17.800000          6.000000        2.000000    19.000000   \n",
       "75%      20.400000         12.000000        3.000000    20.000000   \n",
       "max      30.080000         20.000000        3.000000    21.000000   \n",
       "\n",
       "       Restaurant_Avg_Time  \n",
       "count          1004.000000  \n",
       "mean             29.492032  \n",
       "std               0.859941  \n",
       "min              26.666667  \n",
       "25%              28.844221  \n",
       "50%              29.948454  \n",
       "75%              30.259434  \n",
       "max              30.286458  "
      ]
     },
     "execution_count": 82,
     "metadata": {},
     "output_type": "execute_result"
    }
   ],
   "source": [
    "df.describe()"
   ]
  },
  {
   "cell_type": "code",
   "execution_count": 83,
   "id": "f21da484",
   "metadata": {},
   "outputs": [
    {
     "name": "stdout",
     "output_type": "stream",
     "text": [
      "<class 'pandas.core.frame.DataFrame'>\n",
      "RangeIndex: 1004 entries, 0 to 1003\n",
      "Data columns (total 25 columns):\n",
      " #   Column                     Non-Null Count  Dtype  \n",
      "---  ------                     --------------  -----  \n",
      " 0   Order_ID                   1004 non-null   object \n",
      " 1   Restaurant_Name            1004 non-null   object \n",
      " 2   Location                   1004 non-null   object \n",
      " 3   Order_Time                 1004 non-null   object \n",
      " 4   Delivery_Time              1004 non-null   object \n",
      " 5   Delivery_Duration_min      1004 non-null   int64  \n",
      " 6   Pizza_Size                 1004 non-null   object \n",
      " 7   Pizza_Type                 1004 non-null   object \n",
      " 8   Toppings_Count             1004 non-null   int64  \n",
      " 9   Distance_km                1004 non-null   float64\n",
      " 10  Traffic_Level              1004 non-null   object \n",
      " 11  Payment_Method             1004 non-null   object \n",
      " 12  Peak_Hour                  1004 non-null   bool   \n",
      " 13  Is_Weekend                 1004 non-null   bool   \n",
      " 14  Delivery_Eficiency_min/km  1004 non-null   float64\n",
      " 15  Topping_Density            1004 non-null   float64\n",
      " 16  Order_Month                1004 non-null   object \n",
      " 17  Payment_Category           1004 non-null   object \n",
      " 18  Estimated_Duration_min     1004 non-null   float64\n",
      " 19  Delay_min                  1004 non-null   float64\n",
      " 20  Is_Delayed                 1004 non-null   bool   \n",
      " 21  Pizza_Complexity           1004 non-null   int64  \n",
      " 22  Traffic_Impact             1004 non-null   int64  \n",
      " 23  Order_Hour                 1004 non-null   int64  \n",
      " 24  Restaurant_Avg_Time        1004 non-null   float64\n",
      "dtypes: bool(3), float64(6), int64(5), object(11)\n",
      "memory usage: 175.6+ KB\n"
     ]
    }
   ],
   "source": [
    "df.info()"
   ]
  },
  {
   "cell_type": "code",
   "execution_count": 84,
   "id": "2921e01f",
   "metadata": {},
   "outputs": [
    {
     "data": {
      "text/plain": [
       "np.int64(0)"
      ]
     },
     "execution_count": 84,
     "metadata": {},
     "output_type": "execute_result"
    }
   ],
   "source": [
    "df.duplicated().sum()"
   ]
  },
  {
   "cell_type": "code",
   "execution_count": 85,
   "id": "ce6120b8",
   "metadata": {},
   "outputs": [
    {
     "data": {
      "text/plain": [
       "Order_ID                     0\n",
       "Restaurant_Name              0\n",
       "Location                     0\n",
       "Order_Time                   0\n",
       "Delivery_Time                0\n",
       "Delivery_Duration_min        0\n",
       "Pizza_Size                   0\n",
       "Pizza_Type                   0\n",
       "Toppings_Count               0\n",
       "Distance_km                  0\n",
       "Traffic_Level                0\n",
       "Payment_Method               0\n",
       "Peak_Hour                    0\n",
       "Is_Weekend                   0\n",
       "Delivery_Eficiency_min/km    0\n",
       "Topping_Density              0\n",
       "Order_Month                  0\n",
       "Payment_Category             0\n",
       "Estimated_Duration_min       0\n",
       "Delay_min                    0\n",
       "Is_Delayed                   0\n",
       "Pizza_Complexity             0\n",
       "Traffic_Impact               0\n",
       "Order_Hour                   0\n",
       "Restaurant_Avg_Time          0\n",
       "dtype: int64"
      ]
     },
     "execution_count": 85,
     "metadata": {},
     "output_type": "execute_result"
    }
   ],
   "source": [
    "df.isnull().sum()"
   ]
  },
  {
   "cell_type": "code",
   "execution_count": 86,
   "id": "e2e4cf2a",
   "metadata": {},
   "outputs": [
    {
     "data": {
      "text/plain": [
       "(1004, 25)"
      ]
     },
     "execution_count": 86,
     "metadata": {},
     "output_type": "execute_result"
    }
   ],
   "source": [
    "df.shape"
   ]
  },
  {
   "cell_type": "code",
   "execution_count": 87,
   "id": "d61458aa",
   "metadata": {},
   "outputs": [],
   "source": [
    "df.to_csv(\"Pizza_clean_dataset\", index=False)"
   ]
  },
  {
   "cell_type": "code",
   "execution_count": 88,
   "id": "07a7d77e",
   "metadata": {},
   "outputs": [],
   "source": [
    "import sqlalchemy"
   ]
  },
  {
   "cell_type": "code",
   "execution_count": 89,
   "id": "306d8608",
   "metadata": {},
   "outputs": [],
   "source": [
    "import pymysql"
   ]
  },
  {
   "cell_type": "code",
   "execution_count": 90,
   "id": "9e104872",
   "metadata": {},
   "outputs": [],
   "source": [
    "from sqlalchemy import create_engine"
   ]
  },
  {
   "cell_type": "code",
   "execution_count": 91,
   "id": "eff912aa",
   "metadata": {},
   "outputs": [
    {
     "name": "stdout",
     "output_type": "stream",
     "text": [
      "connection successed to mysql\n"
     ]
    }
   ],
   "source": [
    "engine_mysql= create_engine(\"mysql+pymysql://root@localhost:3306/project\")\n",
    "\n",
    "try:\n",
    "    engine_mysql\n",
    "    print(\"connection successed to mysql\")\n",
    "except:\n",
    "    print(\"unable to connect\")"
   ]
  },
  {
   "cell_type": "code",
   "execution_count": 92,
   "id": "05797414",
   "metadata": {},
   "outputs": [
    {
     "name": "stderr",
     "output_type": "stream",
     "text": [
      "C:\\Users\\Dell\\AppData\\Local\\Temp\\ipykernel_5636\\15052257.py:1: UserWarning: The provided table name 'Pizza' is not found exactly as such in the database after writing the table, possibly due to case sensitivity issues. Consider using lower case table names.\n",
      "  df.to_sql(name='Pizza', con= engine_mysql, if_exists='append', index=False)\n"
     ]
    },
    {
     "data": {
      "text/plain": [
       "1004"
      ]
     },
     "execution_count": 92,
     "metadata": {},
     "output_type": "execute_result"
    }
   ],
   "source": [
    "df.to_sql(name='Pizza', con= engine_mysql, if_exists='append', index=False)"
   ]
  },
  {
   "cell_type": "code",
   "execution_count": null,
   "id": "b8300714",
   "metadata": {},
   "outputs": [],
   "source": []
  }
 ],
 "metadata": {
  "kernelspec": {
   "display_name": "notebook",
   "language": "python",
   "name": "python3"
  },
  "language_info": {
   "codemirror_mode": {
    "name": "ipython",
    "version": 3
   },
   "file_extension": ".py",
   "mimetype": "text/x-python",
   "name": "python",
   "nbconvert_exporter": "python",
   "pygments_lexer": "ipython3",
   "version": "3.11.11"
  }
 },
 "nbformat": 4,
 "nbformat_minor": 5
}
